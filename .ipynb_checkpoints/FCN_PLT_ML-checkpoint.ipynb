{
 "cells": [
  {
   "cell_type": "code",
   "execution_count": 1,
   "metadata": {
    "collapsed": true
   },
   "outputs": [],
   "source": [
    "import pandas as pd\n",
    "import numpy as np\n",
    "from sklearn import datasets, linear_model\n",
    "from scipy import stats as ss\n",
    "import matplotlib.pyplot as plt\n",
    "import matplotlib.cm as cm"
   ]
  },
  {
   "cell_type": "code",
   "execution_count": 2,
   "metadata": {
    "collapsed": true
   },
   "outputs": [],
   "source": [
    "filepath = '/Users/Aman/Desktop/Colin/'\n",
    "df = pd.read_csv(filepath + 'website_metrics.txt')"
   ]
  },
  {
   "cell_type": "code",
   "execution_count": 3,
   "metadata": {
    "collapsed": false
   },
   "outputs": [],
   "source": [
    "Y = df['median_page_download_time']\n",
    "X = df[['number_of_servers_contacted',\n",
    "        'number_of_origins_contacted',\n",
    "        'number_of_object_requests_median',\n",
    "        'object_request_size_median',\n",
    "        'number_of_javascript_objects_median',\n",
    "        'number_of_javascript_objects_median',\n",
    "        'size_of_javascript_objects_median',\n",
    "        'number_of_image_objects_median',\n",
    "        'size_of_image_objects_median',\n",
    "        'number_of_flash_objects_median',\n",
    "        'size_of_flash_objects_median',\n",
    "        'number_of_css_objects_median',\n",
    "        'size_of_css_objects_median',\n",
    "        'number_of_unidentified_objects_median',\n",
    "        'size_of_unidentified_objects_median'\n",
    "       ]]\n",
    "\n"
   ]
  },
  {
   "cell_type": "code",
   "execution_count": null,
   "metadata": {
    "collapsed": true
   },
   "outputs": [],
   "source": [
    "# 1. Basic Linear Regression."
   ]
  },
  {
   "cell_type": "code",
   "execution_count": 5,
   "metadata": {
    "collapsed": false
   },
   "outputs": [
    {
     "name": "stdout",
     "output_type": "stream",
     "text": [
      "('Coefficients: \\n', array([  1.68929833e-01,  -3.73717208e-02,   8.29434516e-01,\n",
      "        -2.81168714e-02,   5.11458860e-02,   5.11458860e-02,\n",
      "         6.54284587e-02,  -3.56110175e-01,   9.49090423e-02,\n",
      "        -4.24582191e-02,   1.63842329e-04,  -3.43775893e-02,\n",
      "         7.04444256e-02,  -9.43842873e-03,   9.10881623e-03]))\n",
      "Residual sum of squares: 0.36\n"
     ]
    }
   ],
   "source": [
    "\n",
    "def normalize(Y,X):\n",
    "    X = np.array(X)\n",
    "    Y = np.array(Y)\n",
    "    Y = np.array(ss.zscore(Y)).T\n",
    "    X = np.array([(ss.zscore(x)) for x in X.T]).T\n",
    "    return Y,X\n",
    "\n",
    "norm_Y, norm_X = normalize(Y,X)\n",
    "\n",
    "def regression(Y,X):\n",
    "    regr_model = linear_model.LinearRegression()\n",
    "    regr_model.fit(X,Y)\n",
    "    print('Coefficients: \\n', regr_model.coef_)\n",
    "    P = regr_model.predict(X)\n",
    "    print(\"Residual sum of squares: %.2f\"% np.mean((P - Y) ** 2))\n",
    "    \n",
    "    return regr_model,P\n",
    "\n",
    "regr_model,Predicted = regression(norm_Y,norm_X)\n",
    "\n",
    "\n",
    "Predicted = (Predicted*np.mean(df['median_page_download_time'])) + np.std(df['median_page_download_time'])"
   ]
  },
  {
   "cell_type": "code",
   "execution_count": null,
   "metadata": {
    "collapsed": true
   },
   "outputs": [],
   "source": []
  },
  {
   "cell_type": "code",
   "execution_count": 55,
   "metadata": {
    "collapsed": false
   },
   "outputs": [],
   "source": [
    "f, ax = plt.subplots(figsize=(10, 10))\n",
    "ax.scatter(Y, Predicted, s=60,c='g')\n",
    "ax.set_ylim(ymin=-1000)\n",
    "ax.set_xlim(xmin=-1000)\n",
    "ax.set_ylim(ymax=15000)\n",
    "ax.set_xlim(xmax=15000)\n",
    "plt.xlabel(\"Predicted Page Load Time(in miliseconds)\")\n",
    "plt.ylabel(\"Actual Page Load Time(in miliseconds)\")\n",
    "plt.title(\"Page Load Time: Actual vs Predicated\")\n",
    "ax.plot(ax.get_xlim(), ax.get_ylim(), ls=\"--\", c=\".3\")\n",
    "plt.show()"
   ]
  },
  {
   "cell_type": "code",
   "execution_count": 57,
   "metadata": {
    "collapsed": false
   },
   "outputs": [],
   "source": [
    "\n",
    "number_of_servers_contacted = np.array(ss.zscore(df.number_of_servers_contacted))\n",
    "number_of_object_requests_median = np.array(ss.zscore(df.number_of_object_requests_median))\n",
    "number_of_image_objects_median = np.array(ss.zscore(df.number_of_image_objects_median))\n",
    "\n",
    "colors = iter(cm.rainbow(np.linspace(0, 1, 3)))\n",
    "f1, ax1 = plt.subplots(figsize=(10, 10))\n",
    "ax1.set_ylim(ymax=6)\n",
    "ax1.set_xlim(xmax=6)\n",
    "ax1.scatter(number_of_image_objects_median,norm_Y , s=75,color=next(colors), marker=\"p\",edgecolor = 'black', label='Median Count of Only Images',alpha=0.9)\n",
    "ax1.scatter(number_of_servers_contacted,norm_Y , s=75,color=next(colors), marker=\"o\",edgecolor = 'black', label='Number Servers Contacted',alpha=0.9)\n",
    "ax1.scatter(number_of_object_requests_median,norm_Y , s=75,color=next(colors), marker=\"s\",edgecolor = 'black', label='Median Count of Object',alpha=0.9)\n",
    "\n",
    "\n",
    "plt.legend(loc='upper left');\n",
    "plt.colors()\n",
    "plt.ylabel('Time in seconds')\n",
    "plt.xlabel('Features(Normalized to make comparable)')\n",
    "plt.grid(True)\n",
    "plt.title(\"Page Load Time vs Features\")\n",
    "plt.show()"
   ]
  }
 ],
 "metadata": {
  "kernelspec": {
   "display_name": "Python 2",
   "language": "python",
   "name": "python2"
  },
  "language_info": {
   "codemirror_mode": {
    "name": "ipython",
    "version": 2
   },
   "file_extension": ".py",
   "mimetype": "text/x-python",
   "name": "python",
   "nbconvert_exporter": "python",
   "pygments_lexer": "ipython2",
   "version": "2.7.11"
  }
 },
 "nbformat": 4,
 "nbformat_minor": 0
}
