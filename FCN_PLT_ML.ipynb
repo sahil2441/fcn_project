{
 "cells": [
  {
   "cell_type": "code",
   "execution_count": 1,
   "metadata": {
    "collapsed": true
   },
   "outputs": [],
   "source": [
    "import pandas as pd\n",
    "import numpy as np\n",
    "from sklearn import datasets, linear_model\n",
    "from scipy import stats as ss\n",
    "import matplotlib.pyplot as plt\n",
    "import matplotlib.cm as cm"
   ]
  },
  {
   "cell_type": "code",
   "execution_count": 16,
   "metadata": {
    "collapsed": true
   },
   "outputs": [],
   "source": [
    "filepath = '/Users/Aman/Desktop/Colin/'\n",
    "df = pd.read_csv(filepath + 'website_metrics.txt')"
   ]
  },
  {
   "cell_type": "code",
   "execution_count": 53,
   "metadata": {
    "collapsed": false
   },
   "outputs": [],
   "source": [
    "Y = df['median_page_download_time']\n",
    "# X = df[['number_of_servers_contacted',\n",
    "#         'number_of_object_requests_median',\n",
    "#         'object_request_size_median',\n",
    "#         'number_of_javascript_objects_median',\n",
    "#        'number_of_javascript_objects_median',\n",
    "#        'size_of_javascript_objects_median',\n",
    "#        'number_of_image_objects_median',\n",
    "#        'size_of_image_objects_median',\n",
    "#        'number_of_flash_objects_median',\n",
    "#        'size_of_flash_objects_median',\n",
    "#        'number_of_css_objects_median',\n",
    "#        'size_of_css_objects_median',\n",
    "#        ]]\n",
    "X = df[['number_of_servers_contacted',\n",
    "        'number_of_object_requests_median',\n",
    "        'number_of_image_objects_median',\n",
    "       ]]\n",
    "\n",
    "\n",
    "# X = df[['number_of_object_requests_median']]"
   ]
  },
  {
   "cell_type": "code",
   "execution_count": 54,
   "metadata": {
    "collapsed": false
   },
   "outputs": [
    {
     "name": "stdout",
     "output_type": "stream",
     "text": [
      "('Coefficients: \\n', array([ 0.13129052,  1.09305224, -0.47244232]))\n",
      "Residual sum of squares: 0.37\n"
     ]
    }
   ],
   "source": [
    "def normalize(Y,X):\n",
    "    X = np.array(X)\n",
    "    Y = np.array(Y)\n",
    "    Y = np.array(ss.zscore(Y)).T\n",
    "    X = np.array([(ss.zscore(x)) for x in X.T]).T\n",
    "    return Y,X\n",
    "    \n",
    "def regression(Y,X):\n",
    "    regr = linear_model.LinearRegression()\n",
    "    Y,X = normalize(Y,X)\n",
    "    regr.fit(X,Y)\n",
    "    print('Coefficients: \\n', regr.coef_)\n",
    "    P = regr.predict(X)\n",
    "    print(\"Residual sum of squares: %.2f\"% np.mean((P - Y) ** 2))\n",
    "    \n",
    "    return regr,P\n",
    "\n",
    "regr,Predicted = regression(Y,X)\n",
    "# norm_Y = np.array(ss.zscore(Y)).T\n",
    "\n",
    "Predicted = (Predicted*np.mean(df['median_page_download_time'])) + np.std(df['median_page_download_time'])"
   ]
  },
  {
   "cell_type": "code",
   "execution_count": 55,
   "metadata": {
    "collapsed": false
   },
   "outputs": [],
   "source": [
    "f, ax = plt.subplots(figsize=(10, 10))\n",
    "ax.scatter(Y, Predicted, s=60,c='g')\n",
    "ax.set_ylim(ymin=-1000)\n",
    "ax.set_xlim(xmin=-1000)\n",
    "ax.set_ylim(ymax=15000)\n",
    "ax.set_xlim(xmax=15000)\n",
    "plt.xlabel(\"Predicted Page Load Time(in miliseconds)\")\n",
    "plt.ylabel(\"Actual Page Load Time(in miliseconds)\")\n",
    "plt.title(\"Page Load Time: Actual vs Predicated\")\n",
    "ax.plot(ax.get_xlim(), ax.get_ylim(), ls=\"--\", c=\".3\")\n",
    "plt.show()"
   ]
  },
  {
   "cell_type": "code",
   "execution_count": 15,
   "metadata": {
    "collapsed": false
   },
   "outputs": [],
   "source": [
    "\n",
    "number_of_servers_contacted = np.array(ss.zscore(df.number_of_servers_contacted))\n",
    "number_of_object_requests_median = np.array(ss.zscore(df.number_of_object_requests_median))\n",
    "number_of_image_objects_median = np.array(ss.zscore(df.number_of_image_objects_median))\n",
    "norm_Y = np.array(ss.zscore(Y)).T\n",
    "\n",
    "colors = iter(cm.rainbow(np.linspace(0, 1, 3)))\n",
    "f1, ax1 = plt.subplots(figsize=(10, 10))\n",
    "ax1.set_ylim(ymax=6)\n",
    "ax1.set_xlim(xmax=6)\n",
    "ax1.scatter(number_of_image_objects_median,norm_Y , s=75,color=next(colors), marker=\"p\",edgecolor = 'black', label='Number of Origin number_of_image_objects_median',alpha=0.9)\n",
    "ax1.scatter(number_of_servers_contacted,norm_Y , s=75,color=next(colors), marker=\"o\",edgecolor = 'black', label='Number Servers Contacted',alpha=0.9)\n",
    "ax1.scatter(number_of_object_requests_median,norm_Y , s=75,color=next(colors), marker=\"s\",edgecolor = 'black', label='Median Count of Object',alpha=0.9)\n",
    "\n",
    "\n",
    "plt.legend(loc='upper left');\n",
    "plt.colors()\n",
    "plt.ylabel('Time in seconds')\n",
    "plt.xlabel('Features(Normalized to make comparable)')\n",
    "plt.grid(True)\n",
    "plt.title(\"Page Load Time vs Features\")\n",
    "plt.show()"
   ]
  }
 ],
 "metadata": {
  "kernelspec": {
   "display_name": "Python 2",
   "language": "python",
   "name": "python2"
  },
  "language_info": {
   "codemirror_mode": {
    "name": "ipython",
    "version": 2
   },
   "file_extension": ".py",
   "mimetype": "text/x-python",
   "name": "python",
   "nbconvert_exporter": "python",
   "pygments_lexer": "ipython2",
   "version": "2.7.11"
  }
 },
 "nbformat": 4,
 "nbformat_minor": 0
}
